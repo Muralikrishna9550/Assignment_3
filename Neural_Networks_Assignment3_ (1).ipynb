{
  "nbformat": 4,
  "nbformat_minor": 0,
  "metadata": {
    "colab": {
      "provenance": []
    },
    "kernelspec": {
      "name": "python3",
      "display_name": "Python 3"
    },
    "language_info": {
      "name": "python"
    }
  },
  "cells": [
    {
      "cell_type": "code",
      "execution_count": 4,
      "metadata": {
        "colab": {
          "base_uri": "https://localhost:8080/"
        },
        "id": "DTL8TxMHUNzE",
        "outputId": "cdb11f75-ab24-44b9-d560-d2bcfdc4356b"
      },
      "outputs": [
        {
          "output_type": "stream",
          "name": "stdout",
          "text": [
            "Employee 1: \n",
            "Enter name: Murali\n",
            "Family Members: 4\n",
            "Employee Salary: 45000\n",
            "Employee Department: Technical\n",
            "Employee 2: \n",
            "Enter name: Krishna\n",
            "Family Members: 4\n",
            "Employee Salary: 50000\n",
            "Employee Department: Non-Technical\n",
            "Full Time Employee 1: \n",
            "Enter name: Pranay\n",
            "Family Members: 5\n",
            "Employee Salary: 100000\n",
            "Employee Department: Software\n",
            "\n",
            "Number of employees:  3\n",
            "Avg salary is : 65000.0\n"
          ]
        }
      ],
      "source": [
        "class Employee:\n",
        "    numberOfEmployees = 0\n",
        "\n",
        "    def __init__(self, name, family, salary, department):\n",
        "        self.name = name\n",
        "        self.family = family\n",
        "        self.salary = salary\n",
        "        self.department = department\n",
        "        Employee.numberOfEmployees+=1\n",
        "\n",
        "\n",
        "def averagesalary(employee):\n",
        "    total = sum(e.salary for e in employee)\n",
        "    average = total / len(employee)\n",
        "    return average\n",
        "\n",
        "class FulltimeEmployee(Employee):\n",
        "    def __init__(self, name, family, salary, department):\n",
        "        Employee.__init__(self,name, family, salary, department)\n",
        "\n",
        "print(\"Employee 1: \")\n",
        "employee1 = Employee(input(\"Enter name: \"),input(\"Family Members: \"),int(input(\"Employee Salary: \")),input(\"Employee Department: \"))\n",
        "print(\"Employee 2: \")\n",
        "employee2 = Employee(input(\"Enter name: \"),input(\"Family Members: \"),int(input(\"Employee Salary: \")),input(\"Employee Department: \"))\n",
        "print(\"Full Time Employee 1: \")\n",
        "employee3 = FulltimeEmployee(input(\"Enter name: \"),input(\"Family Members: \"),int(input(\"Employee Salary: \")),input(\"Employee Department: \"))\n",
        "print(\"\")\n",
        "print(\"Number of employees: \",Employee.numberOfEmployees)\n",
        "listofEmployees = [employee1, employee2, employee3]\n",
        "avgsalary = averagesalary(listofEmployees)\n",
        "print(\"Avg salary is :\", avgsalary)"
      ]
    },
    {
      "cell_type": "code",
      "source": [
        "import numpy\n",
        "\n",
        "random_vector = numpy.random.uniform(1, 20, 20)\n",
        "print(random_vector)\n",
        "print(\"\")\n",
        "print(\"\")\n",
        "reshaped_array = random_vector.reshape(4, 5)\n",
        "print(\"\")\n",
        "print(\"\")\n",
        "print(reshaped_array)\n",
        "reshaped_array[numpy.arange(4), numpy.argmax(reshaped_array, axis=1)] = 0\n",
        "print(\"\")\n",
        "print(\"\")\n",
        "print(reshaped_array)"
      ],
      "metadata": {
        "colab": {
          "base_uri": "https://localhost:8080/"
        },
        "id": "pX8tWDDvVhUG",
        "outputId": "ee7a09dc-d3f6-4b82-bae2-712b20a288af"
      },
      "execution_count": 4,
      "outputs": [
        {
          "output_type": "stream",
          "name": "stdout",
          "text": [
            "[16.41117175  8.26009752 11.96067288 18.18757295  3.57834967  1.62513528\n",
            "  6.35828943  1.51358888 14.12630632  3.88060967 17.47795237 18.33521254\n",
            "  5.37282516  1.47450245  6.05347153 10.09096409  9.20144949 12.46663379\n",
            "  8.04874045 16.82444727]\n",
            "\n",
            "\n",
            "\n",
            "\n",
            "[[16.41117175  8.26009752 11.96067288 18.18757295  3.57834967]\n",
            " [ 1.62513528  6.35828943  1.51358888 14.12630632  3.88060967]\n",
            " [17.47795237 18.33521254  5.37282516  1.47450245  6.05347153]\n",
            " [10.09096409  9.20144949 12.46663379  8.04874045 16.82444727]]\n",
            "\n",
            "\n",
            "[[16.41117175  8.26009752 11.96067288  0.          3.57834967]\n",
            " [ 1.62513528  6.35828943  1.51358888  0.          3.88060967]\n",
            " [17.47795237  0.          5.37282516  1.47450245  6.05347153]\n",
            " [10.09096409  9.20144949 12.46663379  8.04874045  0.        ]]\n"
          ]
        }
      ]
    }
  ]
}